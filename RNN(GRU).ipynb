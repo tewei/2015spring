{
 "cells": [
  {
   "cell_type": "code",
   "execution_count": null,
   "metadata": {
    "collapsed": true
   },
   "outputs": [],
   "source": [
    "import numpy as np\n",
    "import theano\n",
    "import theano.tensor as T\n",
    "\n",
    "n_i = \n",
    "n_h = \n",
    "\n",
    "#Weight for Dynamic Gate\n",
    "w_xz = theano.shared(value = np.asarray(\n",
    "        np.random.uniform(size = (n_h, n_i), low = -0.1, high = 0.1), \n",
    "        dtype = theano.config.floatX, \n",
    "        name = 'w_xz'))\n",
    "w_hz = theano.shared(value = np.asarray(\n",
    "        np.random.uniform(size = (n_h, n_h), low = -0.1, high = 0.1), \n",
    "        dtype = theano.config.floatX, \n",
    "        name = 'w_hz'))\n",
    "#Weight for Reset Gate\n",
    "w_xr = theano.shared(value = np.asarray(\n",
    "        np.random.uniform(size = (n_h, n_i), low = -0.1, high = 0.1), \n",
    "        dtype = theano.config.floatX, \n",
    "        name = 'w_xr'))\n",
    "w_hr = theano.shared(value = np.asarray(\n",
    "        np.random.uniform(size = (n_h, n_h), low = -0.1, high = 0.1), \n",
    "        dtype = theano.config.floatX, \n",
    "        name = 'w_hr'))\n",
    "#Weight for h_tmp\n",
    "w_xh = theano.shared(value = np.asarray(\n",
    "        np.random.uniform(size = (n_h, n_i), low = -0.1, high = 0.1), \n",
    "        dtype = theano.config.floatX, \n",
    "        name = 'w_xh'))\n",
    "w_hh = theano.shared(value = np.asarray(\n",
    "        np.random.uniform(size = (n_h, n_h), low = -0.1, high = 0.1), \n",
    "        dtype = theano.config.floatX, \n",
    "        name = 'w_hh'))\n",
    "#Bias terms\n",
    "b_z = theano.shared(value = np.asarray(\n",
    "        np.random.uniform(size = (n_h,)), \n",
    "        dtype = theano.config.floatX, \n",
    "        name = 'b_z'))\n",
    "\n",
    "b_r = theano.shared(value = np.asarray(\n",
    "        np.random.uniform(size = (n_h,)), \n",
    "        dtype = theano.config.floatX, \n",
    "        name = 'b_r'))\n",
    "b_h = theano.shared(value = np.asarray(\n",
    "        np.random.uniform(size = (n_h,)), \n",
    "        dtype = theano.config.floatX, \n",
    "        name = 'b_h'))\n",
    "\n"
   ]
  }
 ],
 "metadata": {
  "kernelspec": {
   "display_name": "Python 2",
   "language": "python",
   "name": "python2"
  },
  "language_info": {
   "codemirror_mode": {
    "name": "ipython",
    "version": 2
   },
   "file_extension": ".py",
   "mimetype": "text/x-python",
   "name": "python",
   "nbconvert_exporter": "python",
   "pygments_lexer": "ipython2",
   "version": "2.7.9"
  }
 },
 "nbformat": 4,
 "nbformat_minor": 0
}
